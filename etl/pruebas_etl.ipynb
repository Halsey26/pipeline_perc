{
 "cells": [
  {
   "cell_type": "markdown",
   "id": "524ecf1c",
   "metadata": {},
   "source": [
    "Librerias"
   ]
  },
  {
   "cell_type": "code",
   "execution_count": 76,
   "id": "87785ed0",
   "metadata": {},
   "outputs": [],
   "source": [
    "import os\n",
    "from dotenv import load_dotenv\n",
    "import pandas as pd\n",
    "import requests\n",
    "from requests.auth import HTTPBasicAuth\n",
    "from tqdm import tqdm\n",
    "from pathlib import Path\n"
   ]
  },
  {
   "cell_type": "markdown",
   "id": "45abdc12",
   "metadata": {},
   "source": [
    "## Extract"
   ]
  },
  {
   "cell_type": "code",
   "execution_count": 3,
   "id": "b4d56c87",
   "metadata": {},
   "outputs": [],
   "source": [
    "load_dotenv()\n",
    "\n",
    "login =  os.getenv('JUMPSELLER_LOGIN')\n",
    "authtoken =  os.getenv('JUMPSELLER_AUTHTOKEN')"
   ]
  },
  {
   "cell_type": "code",
   "execution_count": 77,
   "id": "adcd4606",
   "metadata": {},
   "outputs": [],
   "source": [
    "def obtener_datos(endpoint, login, authtoken):\n",
    "    # Asegurar que la carpeta exista\n",
    "    Path(\"data/raw\").mkdir(parents=True, exist_ok=True)\n",
    "\n",
    "\n",
    "    datos = []\n",
    "    page = 1\n",
    "    barra= tqdm(desc=f\"Descargando '{endpoint}'\", unit=\" páginas\")\n",
    "\n",
    "    while (True):\n",
    "        url = f\"https://api.jumpseller.com/v1/{endpoint}.json?page={page}&limit=50\"\n",
    "        r = requests.get(url, auth=HTTPBasicAuth(login, authtoken))\n",
    "        if r.status_code != 200:\n",
    "            print(f\"❌ Error al obtener {endpoint}:\", r.status_code)\n",
    "            break\n",
    "\n",
    "        data = r.json()\n",
    "        if not data:\n",
    "            break\n",
    "\n",
    "        datos.extend(data)\n",
    "        barra.update(1) # avanza la barra en 1 unidad\n",
    "        page += 1\n",
    "\n",
    "    barra.close()\n",
    "\n",
    "\n",
    "    print(f\"✅ Data obtenida: {endpoint.title()}. Total páginas {page-1}\")\n",
    "    datos= pd.json_normalize(datos)\n",
    "    datos.to_parquet(f\"data/raw/{endpoint}_raw.parquet\", index=False) # se almacena la data raw\n",
    "    return datos\n"
   ]
  },
  {
   "cell_type": "code",
   "execution_count": null,
   "id": "d045da3e",
   "metadata": {},
   "outputs": [
    {
     "name": "stderr",
     "output_type": "stream",
     "text": [
      "Descargando 'products': 23 páginas [00:28,  1.25s/ páginas]\n"
     ]
    },
    {
     "name": "stdout",
     "output_type": "stream",
     "text": [
      "✅ Data obtenida: Products. Total páginas 23\n"
     ]
    }
   ],
   "source": [
    "df_products = obtener_datos(\"products\", login, authtoken)\n"
   ]
  },
  {
   "cell_type": "code",
   "execution_count": 79,
   "id": "13b8d1f9",
   "metadata": {},
   "outputs": [
    {
     "name": "stderr",
     "output_type": "stream",
     "text": [
      "Descargando 'customers': 31 páginas [00:13,  2.29 páginas/s]\n"
     ]
    },
    {
     "name": "stdout",
     "output_type": "stream",
     "text": [
      "✅ Data obtenida: Customers. Total páginas 31\n"
     ]
    },
    {
     "name": "stderr",
     "output_type": "stream",
     "text": [
      "Descargando 'orders': 29 páginas [00:19,  1.48 páginas/s]\n"
     ]
    },
    {
     "name": "stdout",
     "output_type": "stream",
     "text": [
      "✅ Data obtenida: Orders. Total páginas 29\n"
     ]
    }
   ],
   "source": [
    "df_customers = obtener_datos(\"customers\", login, authtoken)\n",
    "df_orders = obtener_datos(\"orders\", login, authtoken)\n"
   ]
  },
  {
   "cell_type": "markdown",
   "id": "e912d030",
   "metadata": {},
   "source": [
    "## Transform"
   ]
  },
  {
   "cell_type": "code",
   "execution_count": 27,
   "id": "e8c3e5ff",
   "metadata": {},
   "outputs": [
    {
     "data": {
      "text/html": [
       "<div>\n",
       "<style scoped>\n",
       "    .dataframe tbody tr th:only-of-type {\n",
       "        vertical-align: middle;\n",
       "    }\n",
       "\n",
       "    .dataframe tbody tr th {\n",
       "        vertical-align: top;\n",
       "    }\n",
       "\n",
       "    .dataframe thead th {\n",
       "        text-align: right;\n",
       "    }\n",
       "</style>\n",
       "<table border=\"1\" class=\"dataframe\">\n",
       "  <thead>\n",
       "    <tr style=\"text-align: right;\">\n",
       "      <th></th>\n",
       "      <th>product.id</th>\n",
       "      <th>product.name</th>\n",
       "      <th>product.page_title</th>\n",
       "      <th>product.description</th>\n",
       "      <th>product.meta_description</th>\n",
       "      <th>product.price</th>\n",
       "      <th>product.cost_per_item</th>\n",
       "      <th>product.compare_at_price</th>\n",
       "      <th>product.weight</th>\n",
       "      <th>product.stock</th>\n",
       "      <th>...</th>\n",
       "      <th>product.height</th>\n",
       "      <th>product.diameter</th>\n",
       "      <th>product.google_product_category</th>\n",
       "      <th>product.categories</th>\n",
       "      <th>product.images</th>\n",
       "      <th>product.variants</th>\n",
       "      <th>product.fields</th>\n",
       "      <th>product.permalink</th>\n",
       "      <th>product.discount</th>\n",
       "      <th>product.currency</th>\n",
       "    </tr>\n",
       "  </thead>\n",
       "  <tbody>\n",
       "    <tr>\n",
       "      <th>0</th>\n",
       "      <td>27766653</td>\n",
       "      <td>Cámara Canon Mirrorless EOS R8 Body</td>\n",
       "      <td>Cámara Canon Mirrorless EOS R8 Body</td>\n",
       "      <td>&lt;div class=\"product-description\"&gt;&lt;h1&gt;\\n       ...</td>\n",
       "      <td>Canon EOS R8: Desempeño excepcional y...</td>\n",
       "      <td>1999990.0</td>\n",
       "      <td>NaN</td>\n",
       "      <td>2499990.0</td>\n",
       "      <td>1.4</td>\n",
       "      <td>1</td>\n",
       "      <td>...</td>\n",
       "      <td>20.0</td>\n",
       "      <td>0.0</td>\n",
       "      <td>141</td>\n",
       "      <td>[{'id': 1992493, 'name': 'Video y Fotografía',...</td>\n",
       "      <td>[{'id': 57589702, 'url': 'https://images.jumps...</td>\n",
       "      <td>[]</td>\n",
       "      <td>[{'id': 13528130, 'custom_field_id': 68122, 't...</td>\n",
       "      <td>5803c002aa</td>\n",
       "      <td>0.0</td>\n",
       "      <td>CLP</td>\n",
       "    </tr>\n",
       "    <tr>\n",
       "      <th>1</th>\n",
       "      <td>27766654</td>\n",
       "      <td>Cámara Canon Mirrorless EOS R6 MKII Body</td>\n",
       "      <td>Cámara Canon Mirrorless EOS R6 MKII Body</td>\n",
       "      <td>&lt;div class=\"product-description\"&gt;&lt;h1&gt;Canon EOS...</td>\n",
       "      <td>Canon EOS R6 Mark II: Desempeño multimedia exc...</td>\n",
       "      <td>2989990.0</td>\n",
       "      <td>NaN</td>\n",
       "      <td>NaN</td>\n",
       "      <td>1.5</td>\n",
       "      <td>1</td>\n",
       "      <td>...</td>\n",
       "      <td>20.0</td>\n",
       "      <td>0.0</td>\n",
       "      <td>141</td>\n",
       "      <td>[{'id': 1992493, 'name': 'Video y Fotografía',...</td>\n",
       "      <td>[{'id': 57590020, 'url': 'https://images.jumps...</td>\n",
       "      <td>[]</td>\n",
       "      <td>[{'id': 13528139, 'custom_field_id': 68122, 't...</td>\n",
       "      <td>5666c003aa</td>\n",
       "      <td>0.0</td>\n",
       "      <td>CLP</td>\n",
       "    </tr>\n",
       "    <tr>\n",
       "      <th>2</th>\n",
       "      <td>27766655</td>\n",
       "      <td>Cámara Canon Mirrorless EOS R50 Body</td>\n",
       "      <td>Cámara Canon Mirrorless EOS R50 Body</td>\n",
       "      <td>&lt;div class=\"product-description\"&gt;&lt;h1&gt;Canon EOS...</td>\n",
       "      <td>Canon EOS R50: Cámara Mirrorless compacta y ve...</td>\n",
       "      <td>1999990.0</td>\n",
       "      <td>NaN</td>\n",
       "      <td>24999990.0</td>\n",
       "      <td>1.2</td>\n",
       "      <td>0</td>\n",
       "      <td>...</td>\n",
       "      <td>20.0</td>\n",
       "      <td>0.0</td>\n",
       "      <td>141</td>\n",
       "      <td>[{'id': 1992493, 'name': 'Video y Fotografía',...</td>\n",
       "      <td>[{'id': 57590079, 'url': 'https://images.jumps...</td>\n",
       "      <td>[]</td>\n",
       "      <td>[{'id': 13528148, 'custom_field_id': 68122, 't...</td>\n",
       "      <td>5811c002aa</td>\n",
       "      <td>0.0</td>\n",
       "      <td>CLP</td>\n",
       "    </tr>\n",
       "    <tr>\n",
       "      <th>3</th>\n",
       "      <td>27766656</td>\n",
       "      <td>Cámara Canon Mirrorless EOS R7 - Body</td>\n",
       "      <td>Cámara Canon Mirrorless EOS R7 - Body</td>\n",
       "      <td>&lt;div class=\"product-description\"&gt;&lt;h1&gt;\\n       ...</td>\n",
       "      <td>Canon EOS R7: Desempeño de alta veloc...</td>\n",
       "      <td>1549990.0</td>\n",
       "      <td>NaN</td>\n",
       "      <td>NaN</td>\n",
       "      <td>1.4</td>\n",
       "      <td>0</td>\n",
       "      <td>...</td>\n",
       "      <td>20.0</td>\n",
       "      <td>0.0</td>\n",
       "      <td>141</td>\n",
       "      <td>[{'id': 1992493, 'name': 'Video y Fotografía',...</td>\n",
       "      <td>[{'id': 57590211, 'url': 'https://images.jumps...</td>\n",
       "      <td>[]</td>\n",
       "      <td>[{'id': 13528157, 'custom_field_id': 68122, 't...</td>\n",
       "      <td>5137c002</td>\n",
       "      <td>0.0</td>\n",
       "      <td>CLP</td>\n",
       "    </tr>\n",
       "    <tr>\n",
       "      <th>4</th>\n",
       "      <td>27766657</td>\n",
       "      <td>Cámara Canon Mirrorless EOS R10 - Body</td>\n",
       "      <td>Cámara Canon Mirrorless EOS R10 - Body</td>\n",
       "      <td>&lt;div class=\"product-description\"&gt;&lt;h1&gt;Canon EOS...</td>\n",
       "      <td>Canon EOS R10: Cámara Mirrorless compacta y po...</td>\n",
       "      <td>994990.0</td>\n",
       "      <td>NaN</td>\n",
       "      <td>1149990.0</td>\n",
       "      <td>1.3</td>\n",
       "      <td>1</td>\n",
       "      <td>...</td>\n",
       "      <td>20.0</td>\n",
       "      <td>0.0</td>\n",
       "      <td>141</td>\n",
       "      <td>[{'id': 1992493, 'name': 'Video y Fotografía',...</td>\n",
       "      <td>[{'id': 57590336, 'url': 'https://images.jumps...</td>\n",
       "      <td>[]</td>\n",
       "      <td>[{'id': 13528166, 'custom_field_id': 68122, 't...</td>\n",
       "      <td>5331c002</td>\n",
       "      <td>0.0</td>\n",
       "      <td>CLP</td>\n",
       "    </tr>\n",
       "  </tbody>\n",
       "</table>\n",
       "<p>5 rows × 37 columns</p>\n",
       "</div>"
      ],
      "text/plain": [
       "   product.id                              product.name  \\\n",
       "0    27766653       Cámara Canon Mirrorless EOS R8 Body   \n",
       "1    27766654  Cámara Canon Mirrorless EOS R6 MKII Body   \n",
       "2    27766655      Cámara Canon Mirrorless EOS R50 Body   \n",
       "3    27766656     Cámara Canon Mirrorless EOS R7 - Body   \n",
       "4    27766657    Cámara Canon Mirrorless EOS R10 - Body   \n",
       "\n",
       "                         product.page_title  \\\n",
       "0       Cámara Canon Mirrorless EOS R8 Body   \n",
       "1  Cámara Canon Mirrorless EOS R6 MKII Body   \n",
       "2      Cámara Canon Mirrorless EOS R50 Body   \n",
       "3     Cámara Canon Mirrorless EOS R7 - Body   \n",
       "4    Cámara Canon Mirrorless EOS R10 - Body   \n",
       "\n",
       "                                 product.description  \\\n",
       "0  <div class=\"product-description\"><h1>\\n       ...   \n",
       "1  <div class=\"product-description\"><h1>Canon EOS...   \n",
       "2  <div class=\"product-description\"><h1>Canon EOS...   \n",
       "3  <div class=\"product-description\"><h1>\\n       ...   \n",
       "4  <div class=\"product-description\"><h1>Canon EOS...   \n",
       "\n",
       "                            product.meta_description  product.price  \\\n",
       "0           Canon EOS R8: Desempeño excepcional y...      1999990.0   \n",
       "1  Canon EOS R6 Mark II: Desempeño multimedia exc...      2989990.0   \n",
       "2  Canon EOS R50: Cámara Mirrorless compacta y ve...      1999990.0   \n",
       "3           Canon EOS R7: Desempeño de alta veloc...      1549990.0   \n",
       "4  Canon EOS R10: Cámara Mirrorless compacta y po...       994990.0   \n",
       "\n",
       "   product.cost_per_item  product.compare_at_price  product.weight  \\\n",
       "0                    NaN                 2499990.0             1.4   \n",
       "1                    NaN                       NaN             1.5   \n",
       "2                    NaN                24999990.0             1.2   \n",
       "3                    NaN                       NaN             1.4   \n",
       "4                    NaN                 1149990.0             1.3   \n",
       "\n",
       "   product.stock  ...  product.height  product.diameter  \\\n",
       "0              1  ...            20.0               0.0   \n",
       "1              1  ...            20.0               0.0   \n",
       "2              0  ...            20.0               0.0   \n",
       "3              0  ...            20.0               0.0   \n",
       "4              1  ...            20.0               0.0   \n",
       "\n",
       "   product.google_product_category  \\\n",
       "0                              141   \n",
       "1                              141   \n",
       "2                              141   \n",
       "3                              141   \n",
       "4                              141   \n",
       "\n",
       "                                  product.categories  \\\n",
       "0  [{'id': 1992493, 'name': 'Video y Fotografía',...   \n",
       "1  [{'id': 1992493, 'name': 'Video y Fotografía',...   \n",
       "2  [{'id': 1992493, 'name': 'Video y Fotografía',...   \n",
       "3  [{'id': 1992493, 'name': 'Video y Fotografía',...   \n",
       "4  [{'id': 1992493, 'name': 'Video y Fotografía',...   \n",
       "\n",
       "                                      product.images product.variants  \\\n",
       "0  [{'id': 57589702, 'url': 'https://images.jumps...               []   \n",
       "1  [{'id': 57590020, 'url': 'https://images.jumps...               []   \n",
       "2  [{'id': 57590079, 'url': 'https://images.jumps...               []   \n",
       "3  [{'id': 57590211, 'url': 'https://images.jumps...               []   \n",
       "4  [{'id': 57590336, 'url': 'https://images.jumps...               []   \n",
       "\n",
       "                                      product.fields  product.permalink  \\\n",
       "0  [{'id': 13528130, 'custom_field_id': 68122, 't...         5803c002aa   \n",
       "1  [{'id': 13528139, 'custom_field_id': 68122, 't...         5666c003aa   \n",
       "2  [{'id': 13528148, 'custom_field_id': 68122, 't...         5811c002aa   \n",
       "3  [{'id': 13528157, 'custom_field_id': 68122, 't...           5137c002   \n",
       "4  [{'id': 13528166, 'custom_field_id': 68122, 't...           5331c002   \n",
       "\n",
       "  product.discount  product.currency  \n",
       "0              0.0               CLP  \n",
       "1              0.0               CLP  \n",
       "2              0.0               CLP  \n",
       "3              0.0               CLP  \n",
       "4              0.0               CLP  \n",
       "\n",
       "[5 rows x 37 columns]"
      ]
     },
     "execution_count": 27,
     "metadata": {},
     "output_type": "execute_result"
    }
   ],
   "source": [
    "df_products.head(5)"
   ]
  },
  {
   "cell_type": "code",
   "execution_count": null,
   "id": "5e46c82f",
   "metadata": {},
   "outputs": [
    {
     "name": "stdout",
     "output_type": "stream",
     "text": [
      "<class 'pandas.core.frame.DataFrame'>\n",
      "RangeIndex: 1137 entries, 0 to 1136\n",
      "Data columns (total 37 columns):\n",
      " #   Column                           Non-Null Count  Dtype  \n",
      "---  ------                           --------------  -----  \n",
      " 0   product.id                       1137 non-null   int64  \n",
      " 1   product.name                     1137 non-null   object \n",
      " 2   product.page_title               1137 non-null   object \n",
      " 3   product.description              1132 non-null   object \n",
      " 4   product.meta_description         1132 non-null   object \n",
      " 5   product.price                    1137 non-null   float64\n",
      " 6   product.cost_per_item            486 non-null    float64\n",
      " 7   product.compare_at_price         84 non-null     float64\n",
      " 8   product.weight                   1137 non-null   float64\n",
      " 9   product.stock                    1137 non-null   int64  \n",
      " 10  product.stock_unlimited          1137 non-null   bool   \n",
      " 11  product.stock_threshold          1137 non-null   int64  \n",
      " 12  product.stock_notification       1137 non-null   bool   \n",
      " 13  product.sku                      1137 non-null   object \n",
      " 14  product.brand                    1136 non-null   object \n",
      " 15  product.barcode                  343 non-null    object \n",
      " 16  product.featured                 1137 non-null   bool   \n",
      " 17  product.reviews_enabled          1137 non-null   bool   \n",
      " 18  product.status                   1137 non-null   object \n",
      " 19  product.shipping_required        1137 non-null   bool   \n",
      " 20  product.type                     1137 non-null   object \n",
      " 21  product.days_to_expire           0 non-null      object \n",
      " 22  product.created_at               1137 non-null   object \n",
      " 23  product.updated_at               1137 non-null   object \n",
      " 24  product.package_format           1137 non-null   object \n",
      " 25  product.length                   1137 non-null   float64\n",
      " 26  product.width                    1137 non-null   float64\n",
      " 27  product.height                   1137 non-null   float64\n",
      " 28  product.diameter                 1137 non-null   float64\n",
      " 29  product.google_product_category  636 non-null    object \n",
      " 30  product.categories               1137 non-null   object \n",
      " 31  product.images                   1137 non-null   object \n",
      " 32  product.variants                 1137 non-null   object \n",
      " 33  product.fields                   1137 non-null   object \n",
      " 34  product.permalink                1137 non-null   object \n",
      " 35  product.discount                 1137 non-null   object \n",
      " 36  product.currency                 1137 non-null   object \n",
      "dtypes: bool(5), float64(8), int64(3), object(21)\n",
      "memory usage: 289.9+ KB\n"
     ]
    }
   ],
   "source": [
    "df_products.info()"
   ]
  },
  {
   "cell_type": "code",
   "execution_count": 57,
   "id": "a280ea2c",
   "metadata": {},
   "outputs": [
    {
     "data": {
      "text/plain": [
       "array(['physical'], dtype=object)"
      ]
     },
     "execution_count": 57,
     "metadata": {},
     "output_type": "execute_result"
    }
   ],
   "source": [
    "df_products['type'].unique()"
   ]
  },
  {
   "cell_type": "markdown",
   "id": "1a356ba8",
   "metadata": {},
   "source": [
    "columnas relevantes\n",
    "- id, name, price, stock, stock_notification, brand, created_at, update_at, categories"
   ]
  },
  {
   "cell_type": "code",
   "execution_count": 50,
   "id": "7c98616a",
   "metadata": {},
   "outputs": [
    {
     "data": {
      "text/plain": [
       "Index(['id', 'name', 'page_title', 'description', 'meta_description', 'price',\n",
       "       'cost_per_item', 'compare_at_price', 'weight', 'stock',\n",
       "       'stock_unlimited', 'stock_threshold', 'stock_notification', 'sku',\n",
       "       'brand', 'barcode', 'featured', 'reviews_enabled', 'status',\n",
       "       'shipping_required', 'type', 'days_to_expire', 'created_at',\n",
       "       'updated_at', 'package_format', 'length', 'width', 'height', 'diameter',\n",
       "       'google_product_category', 'categories', 'images', 'variants', 'fields',\n",
       "       'permalink', 'discount', 'currency'],\n",
       "      dtype='object')"
      ]
     },
     "execution_count": 50,
     "metadata": {},
     "output_type": "execute_result"
    }
   ],
   "source": [
    "df_products.columns"
   ]
  },
  {
   "cell_type": "code",
   "execution_count": 58,
   "id": "f59cc47f",
   "metadata": {},
   "outputs": [],
   "source": [
    "columnas_necesarias = ['id', 'name', 'brand', 'price', 'created_at', 'updated_at', 'stock', 'stock_notification', 'categories']\n",
    "df = df_products[columnas_necesarias].copy()"
   ]
  },
  {
   "cell_type": "code",
   "execution_count": 60,
   "id": "8b2cdf10",
   "metadata": {},
   "outputs": [
    {
     "data": {
      "text/plain": [
       "id                    0\n",
       "name                  0\n",
       "brand                 1\n",
       "price                 0\n",
       "created_at            0\n",
       "updated_at            0\n",
       "stock                 0\n",
       "stock_notification    0\n",
       "categories            0\n",
       "dtype: int64"
      ]
     },
     "execution_count": 60,
     "metadata": {},
     "output_type": "execute_result"
    }
   ],
   "source": [
    "df.isnull().sum()"
   ]
  },
  {
   "cell_type": "code",
   "execution_count": 63,
   "id": "065c9697",
   "metadata": {},
   "outputs": [],
   "source": [
    "type(df['categories'][0])\n",
    "df_prueba= df.copy()\n",
    "df_prueba = pd.json_normalize(df['categories'])\n"
   ]
  },
  {
   "cell_type": "code",
   "execution_count": 68,
   "id": "95b37b10",
   "metadata": {},
   "outputs": [
    {
     "data": {
      "text/html": [
       "<div>\n",
       "<style scoped>\n",
       "    .dataframe tbody tr th:only-of-type {\n",
       "        vertical-align: middle;\n",
       "    }\n",
       "\n",
       "    .dataframe tbody tr th {\n",
       "        vertical-align: top;\n",
       "    }\n",
       "\n",
       "    .dataframe thead th {\n",
       "        text-align: right;\n",
       "    }\n",
       "</style>\n",
       "<table border=\"1\" class=\"dataframe\">\n",
       "  <thead>\n",
       "    <tr style=\"text-align: right;\">\n",
       "      <th></th>\n",
       "      <th>id</th>\n",
       "      <th>name</th>\n",
       "      <th>brand</th>\n",
       "      <th>price</th>\n",
       "      <th>created_at</th>\n",
       "      <th>updated_at</th>\n",
       "      <th>stock</th>\n",
       "      <th>stock_notification</th>\n",
       "      <th>categories</th>\n",
       "    </tr>\n",
       "  </thead>\n",
       "  <tbody>\n",
       "    <tr>\n",
       "      <th>0</th>\n",
       "      <td>27766653</td>\n",
       "      <td>Cámara Canon Mirrorless EOS R8 Body</td>\n",
       "      <td>Canon</td>\n",
       "      <td>1999990.0</td>\n",
       "      <td>2024-11-23 00:20:22 UTC</td>\n",
       "      <td>2025-08-12 00:47:37 UTC</td>\n",
       "      <td>1</td>\n",
       "      <td>True</td>\n",
       "      <td>[{'id': 1992493, 'name': 'Video y Fotografía',...</td>\n",
       "    </tr>\n",
       "  </tbody>\n",
       "</table>\n",
       "</div>"
      ],
      "text/plain": [
       "         id                                 name  brand      price  \\\n",
       "0  27766653  Cámara Canon Mirrorless EOS R8 Body  Canon  1999990.0   \n",
       "\n",
       "                created_at               updated_at  stock  \\\n",
       "0  2024-11-23 00:20:22 UTC  2025-08-12 00:47:37 UTC      1   \n",
       "\n",
       "   stock_notification                                         categories  \n",
       "0                True  [{'id': 1992493, 'name': 'Video y Fotografía',...  "
      ]
     },
     "execution_count": 68,
     "metadata": {},
     "output_type": "execute_result"
    }
   ],
   "source": [
    "df.head(1)"
   ]
  },
  {
   "cell_type": "code",
   "execution_count": 72,
   "id": "8df5463f",
   "metadata": {},
   "outputs": [],
   "source": [
    "categorias= df['categories'][0]\n",
    "lista_categorias= []\n",
    "for categoria in categorias:\n",
    "    nombre_cate= categoria['name']\n",
    "    lista_categorias.append(nombre_cate)"
   ]
  },
  {
   "cell_type": "code",
   "execution_count": 73,
   "id": "6f5755bf",
   "metadata": {},
   "outputs": [
    {
     "data": {
      "text/plain": [
       "['Video y Fotografía',\n",
       " 'Cámaras',\n",
       " 'Audio',\n",
       " 'Micrófonos',\n",
       " 'Marcas',\n",
       " 'Canon',\n",
       " 'Micrófono para Vlogging',\n",
       " 'Cámaras Mirrorless',\n",
       " 'Cámaras Semiprofesionales',\n",
       " 'Cámaras para Vlog',\n",
       " 'Cámaras para Streaming',\n",
       " 'Cámaras para Youtuber',\n",
       " 'Cámaras para TikTok',\n",
       " 'Cámaras para Instagram',\n",
       " 'Cámaras para Podcast',\n",
       " 'Cámaras para Grabar Contenido',\n",
       " 'Cámaras para Transmitir en Vivo',\n",
       " 'Cámaras para Transmitir en Vivo por Facebook',\n",
       " 'Cámaras para Viajes',\n",
       " 'Cámaras para Fotografiar Aves']"
      ]
     },
     "execution_count": 73,
     "metadata": {},
     "output_type": "execute_result"
    }
   ],
   "source": [
    "lista_categorias"
   ]
  },
  {
   "cell_type": "code",
   "execution_count": null,
   "id": "f5a1a190",
   "metadata": {},
   "outputs": [
    {
     "name": "stdout",
     "output_type": "stream",
     "text": [
      "Celular Samusng A55\n",
      "[{'id': 13528220, 'custom_field_id': 68122, 'type': 'selection', 'label': 'Tamaño del sensor', 'value_id': 137278, 'value': 'APS-C', 'variant_id': None}, {'id': 13528221, 'custom_field_id': 68123, 'type': 'selection', 'label': 'Entrada Micrófono', 'value_id': 137281, 'value': 'Sí', 'variant_id': None}, {'id': 13528222, 'custom_field_id': 68124, 'type': 'selection', 'label': 'Salida de Audífonos', 'value_id': 137282, 'value': 'Sí', 'variant_id': None}, {'id': 13528223, 'custom_field_id': 68125, 'type': 'selection', 'label': 'Megapíxeles', 'value_id': 139859, 'value': '24.2 MP', 'variant_id': None}, {'id': 13528224, 'custom_field_id': 68126, 'type': 'selection', 'label': 'Resolución de Video', 'value_id': 139860, 'value': '4K a 60p', 'variant_id': None}, {'id': 13528225, 'custom_field_id': 68127, 'type': 'selection', 'label': 'Pantalla', 'value_id': 139861, 'value': 'Táctil articulada', 'variant_id': None}, {'id': 13528226, 'custom_field_id': 66671, 'type': 'text', 'label': 'Características', 'value_id': None, 'value': 'Compacta y ligera * Kit ideal para comenzar en la fotografía * Enfoque rápido y preciso * Pantalla táctil vari-angle * Conectividad Wi-Fi y Bluetooth', 'variant_id': None}, {'id': 13528227, 'custom_field_id': 67441, 'type': 'text', 'label': 'Características principales', 'value_id': None, 'value': 'Perfecta para quienes se inician en la fotografía digital. La EOS R100 es compacta y ligera, con un kit completo que incluye una lente versátil, ideal para aprender y capturar momentos con alta calidad.', 'variant_id': None}, {'id': 13528228, 'custom_field_id': 67583, 'type': 'text', 'label': 'include', 'value_id': None, 'value': 'Cámara Canon Mirrorless EOS R100 + Lente RF-S 18-45mm * Batería * Cargador * Cable USB * Correa de cámara * Manual de usuario', 'variant_id': None}, {'id': 13762785, 'custom_field_id': 66692, 'type': 'selection', 'label': 'Seller', 'value_id': 136685, 'value': 'New Line', 'variant_id': None}]\n"
     ]
    }
   ],
   "source": [
    "import pandas as pd\n",
    "\n",
    "def limpiar_y_preparar_productos(df):\n",
    "    # Renombrar\n",
    "    df.columns = df.columns.str.replace('^product\\.', '', regex=True)\n",
    "\n",
    "    # Columnas clave\n",
    "    columnas_necesarias = ['id', 'name', 'brand', 'price', 'created_at', 'updated_at', 'stock', 'stock_notification', 'categories']\n",
    "    columnas_disponibles = [col for col in columnas_necesarias if col in df.columns]\n",
    "    df = df[columnas_disponibles].copy()\n",
    "\n",
    "    # Fechas a datetime\n",
    "    for fecha_col in ['created_at', 'updated_at']:\n",
    "        if fecha_col in df.columns:\n",
    "            df[fecha_col] = pd.to_datetime(df[fecha_col], errors='coerce')\n",
    "            nulos_fecha = df[fecha_col].isna().sum()\n",
    "            if nulos_fecha > 0:\n",
    "                print(f\"⚠️ {nulos_fecha} valores nulos en {fecha_col} tras conversión a datetime.\")\n",
    "\n",
    "    # Nulos en texto\n",
    "    for col in ['name', 'brand']:\n",
    "        if col in df.columns:\n",
    "            df[col] = df[col].fillna('No especificado')\n",
    "\n",
    "    # Nulos en numéricos\n",
    "    if 'price' in df.columns:\n",
    "        df['price'] = pd.to_numeric(df['price'], errors='coerce').fillna(0)\n",
    "\n",
    "    print(\"✅ Limpieza y preparación completada.\")\n",
    "    return df\n",
    "\n"
   ]
  }
 ],
 "metadata": {
  "kernelspec": {
   "display_name": "Python 3",
   "language": "python",
   "name": "python3"
  },
  "language_info": {
   "codemirror_mode": {
    "name": "ipython",
    "version": 3
   },
   "file_extension": ".py",
   "mimetype": "text/x-python",
   "name": "python",
   "nbconvert_exporter": "python",
   "pygments_lexer": "ipython3",
   "version": "3.12.1"
  }
 },
 "nbformat": 4,
 "nbformat_minor": 5
}
