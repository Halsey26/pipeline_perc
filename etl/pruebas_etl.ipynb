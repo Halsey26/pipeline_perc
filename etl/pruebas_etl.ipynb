{
 "cells": [
  {
   "cell_type": "markdown",
   "id": "524ecf1c",
   "metadata": {},
   "source": [
    "Librerias"
   ]
  },
  {
   "cell_type": "code",
   "execution_count": null,
   "id": "87785ed0",
   "metadata": {},
   "outputs": [],
   "source": [
    "import os\n",
    "from dotenv import load_dotenv\n",
    "import pandas as pd\n",
    "import requests\n",
    "from requests.auth import HTTPBasicAuth\n"
   ]
  },
  {
   "cell_type": "code",
   "execution_count": null,
   "id": "b4d56c87",
   "metadata": {},
   "outputs": [],
   "source": [
    "\n",
    "\n",
    "load_dotenv()\n",
    "\n",
    "login =  os.getenv('JUMPSELLER_LOGIN')\n",
    "authtoken =  os.getenv('JUMPSELLER_AUTHTOKEN')"
   ]
  },
  {
   "cell_type": "code",
   "execution_count": null,
   "id": "adcd4606",
   "metadata": {},
   "outputs": [
    {
     "data": {
      "text/plain": [
       "'0b0829d746a5f80cd474635e4d8d60d2a025bf60ed4c5278e6'"
      ]
     },
     "execution_count": 8,
     "metadata": {},
     "output_type": "execute_result"
    }
   ],
   "source": [
    "def obtener_datos(endpoint, login, authtoken):\n",
    "    datos = []\n",
    "    page = 1\n",
    "\n",
    "    while True:\n",
    "        url = f\"https://api.jumpseller.com/v1/{endpoint}.json?page={page}&limit=50\"\n",
    "        r = requests.get(url, auth=HTTPBasicAuth(login, authtoken))\n",
    "        if r.status_code != 200:\n",
    "            print(f\"❌ Error al obtener {endpoint}:\", r.status_code)\n",
    "            break\n",
    "\n",
    "        data = r.json()\n",
    "        if not data:\n",
    "            break\n",
    "\n",
    "        datos.extend(data)\n",
    "        print(f\"✅ Página {page} de {endpoint} descargada.\")\n",
    "        page += 1\n",
    "\n",
    "    return pd.json_normalize(datos)"
   ]
  }
 ],
 "metadata": {
  "kernelspec": {
   "display_name": "Python 3",
   "language": "python",
   "name": "python3"
  },
  "language_info": {
   "codemirror_mode": {
    "name": "ipython",
    "version": 3
   },
   "file_extension": ".py",
   "mimetype": "text/x-python",
   "name": "python",
   "nbconvert_exporter": "python",
   "pygments_lexer": "ipython3",
   "version": "3.12.1"
  }
 },
 "nbformat": 4,
 "nbformat_minor": 5
}
